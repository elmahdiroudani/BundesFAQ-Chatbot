{
 "cells": [
  {
   "cell_type": "markdown",
   "id": "cbafa8a2",
   "metadata": {},
   "source": [
    "# PDF-Verarbeitung für BundesFAQ-Chatbot\n",
    "\n",
    "Dieses Notebook demonstriert die PDF-Verarbeitung mit PyMuPDFLoader für den BundesFAQ-Chatbot."
   ]
  },
  {
   "cell_type": "code",
   "execution_count": 1,
   "id": "188d295b",
   "metadata": {},
   "outputs": [],
   "source": [
    "from langchain_community.document_loaders import PyMuPDFLoader\n",
    "from langchain.text_splitter import RecursiveCharacterTextSplitter\n",
    "from langchain_core.documents import Document\n",
    "from typing import List"
   ]
  },
  {
   "cell_type": "code",
   "execution_count": 18,
   "id": "49a55f19",
   "metadata": {},
   "outputs": [
    {
     "name": "stdout",
     "output_type": "stream",
     "text": [
      " PyMuPDFLoader Test\n",
      " 22 Seiten erfolgreich geladen\n",
      " Erste Seite (Vorschau): Häufig gestellte Fragen\n",
      "...\n",
      " Metadaten: Autor = Bundesverwaltungsamt\n"
     ]
    }
   ],
   "source": [
    "print(\" PyMuPDFLoader Test\")\n",
    "\n",
    "try:\n",
    "    pymupdf_loader = PyMuPDFLoader(\"../data/faq.pdf\")\n",
    "    pymupdf_docs = pymupdf_loader.load()\n",
    "    \n",
    "    print(f\" {len(pymupdf_docs)} Seiten erfolgreich geladen\")\n",
    "    print(f\" Erste Seite (Vorschau): {pymupdf_docs[0].page_content[:100]}...\")\n",
    "    print(f\" Metadaten: Autor = {pymupdf_docs[0].metadata.get('author', 'Unbekannt')}\")\n",
    "    \n",
    "except Exception as e:\n",
    "    print(f\" Fehler: {e}\")"
   ]
  },
  {
   "cell_type": "markdown",
   "id": "76dc686a",
   "metadata": {},
   "source": [
    "## PDF-Verarbeitungsherausforderungen"
   ]
  },
  {
   "cell_type": "code",
   "execution_count": null,
   "id": "ab67c8d3",
   "metadata": {},
   "outputs": [],
   "source": [
    "class SmartPDFProcessor:\n",
    "    \n",
    "    def __init__(self, chunk_size=1000, chunk_overlap=100):\n",
    "        self.chunk_size = chunk_size\n",
    "        self.chunk_overlap = chunk_overlap\n",
    "        self.text_splitter = RecursiveCharacterTextSplitter(\n",
    "            chunk_size=chunk_size,\n",
    "            chunk_overlap=chunk_overlap,\n",
    "            separators=[\"\\n\\n\", \"\\n\", \" \", \"\"],\n",
    "        )\n",
    "\n",
    "    def process_pdf(self, pdf_path: str) -> List[Document]:\n",
    "        \"\"\"\n",
    "        Verarbeitet PDF mit intelligenter Chunking und Metadaten-Anreicherung\n",
    "        \n",
    "        Args:\n",
    "            pdf_path: Pfad zur PDF-Datei\n",
    "            \n",
    "        Returns:\n",
    "            Liste von Document-Objekten mit bereinigtem Text und Metadaten\n",
    "        \"\"\"\n",
    "        \n",
    "        loader = PyMuPDFLoader(pdf_path)\n",
    "        pages = loader.load()\n",
    "        \n",
    "        processed_chunks = []\n",
    "        \n",
    "        for page_num, page in enumerate(pages):\n",
    "            cleaned_text = self._clean_text(page.page_content)\n",
    "            \n",
    "            if len(cleaned_text.strip()) < 50:\n",
    "                continue\n",
    "            \n",
    "            chunks = self.text_splitter.create_documents(\n",
    "                texts=[cleaned_text],\n",
    "                metadatas=[{\n",
    "                    **page.metadata,\n",
    "                    \"seite\": page_num + 1,\n",
    "                    \"gesamtseiten\": len(pages),\n",
    "                    \"chunk_methode\": \"smart_pdf_processor_pymupdf\",\n",
    "                    \"zeichenanzahl\": len(cleaned_text),\n",
    "                    \"loader_typ\": \"PyMuPDFLoader\",\n",
    "                    \"sprache\": \"deutsch\"\n",
    "                }]\n",
    "            )\n",
    "            \n",
    "            processed_chunks.extend(chunks)\n",
    "        \n",
    "        return processed_chunks\n",
    "\n",
    "    def _clean_text(self, text: str) -> str:\n",
    "        \"\"\"Erweiterte Textbereinigung für bessere FAQ-Verarbeitung\"\"\"\n",
    "        import re\n",
    "        \n",
    "        text = \" \".join(text.split())\n",
    "        \n",
    "        text = text.replace(\"ﬁ\", \"fi\")\n",
    "        text = text.replace(\"ﬂ\", \"fl\")\n",
    "        text = text.replace(\"ﬀ\", \"ff\")\n",
    "        text = text.replace(\"ﬃ\", \"ffi\")  \n",
    "        text = text.replace(\"ﬄ\", \"ffl\")  \n",
    "        \n",
    "        text = text.replace(\"Frage:\", \"\\nFrage:\")\n",
    "        text = text.replace(\"Antwort:\", \"\\nAntwort:\")\n",
    "        text = text.replace(\"Q:\", \"\\nQ:\")\n",
    "        text = text.replace(\"A:\", \"\\nA:\")\n",
    "        \n",
    "        text = re.sub(r'Seite \\d+ von \\d+', '', text)  \n",
    "        text = re.sub(r'^\\d+\\s*$', '', text, flags=re.MULTILINE)  \n",
    "        text = re.sub(r'\\n\\s*\\n', '\\n', text)  \n",
    "        text = re.sub(r'www\\.\\s+', 'www.', text)  \n",
    "        text = re.sub(r'@\\s+', '@', text) \n",
    "        \n",
    "        return text.strip()"
   ]
  },
  {
   "cell_type": "code",
   "execution_count": 4,
   "id": "45162500",
   "metadata": {},
   "outputs": [
    {
     "name": "stdout",
     "output_type": "stream",
     "text": [
      " SmartPDFProcessor bereit für die Verarbeitung\n"
     ]
    }
   ],
   "source": [
    "pdf_processor = SmartPDFProcessor(chunk_size=1000, chunk_overlap=100)\n",
    "print(\" SmartPDFProcessor bereit für die Verarbeitung\")"
   ]
  },
  {
   "cell_type": "code",
   "execution_count": 6,
   "id": "2ab4143d",
   "metadata": {},
   "outputs": [
    {
     "name": "stdout",
     "output_type": "stream",
     "text": [
      " Verarbeite die FAQ-PDF-Datei...\n",
      " Erfolgreich in 61 intelligente Chunks verarbeitet\n",
      "\n",
      " Beispiel-Chunk-Metadaten:\n",
      "  source: ../data/faq.pdf\n",
      "  file_path: ../data/faq.pdf\n",
      "  page: 1\n",
      "  total_pages: 22\n",
      "  format: PDF 1.4\n",
      "  title: \n",
      "  author: Bundesverwaltungsamt\n",
      "  subject: \n",
      "  keywords: \n",
      "  creator: \n",
      "  producer: \n",
      "  creationDate: \n",
      "  modDate: \n",
      "  trapped: \n",
      "  seite: 2\n",
      "  gesamtseiten: 22\n",
      "  chunk_methode: smart_pdf_processor_pymupdf\n",
      "  zeichenanzahl: 442\n",
      "  loader_typ: PyMuPDFLoader\n",
      "  sprache: deutsch\n",
      "\n",
      " Beispiel-Textinhalt (erste 200 Zeichen):\n",
      "  Das Open Data Handbuch des BVA FAQ Fragen und Antworten rund um die Umsetzung von Open Data in der Bundesverwaltung Hier finden Sie Antworten zu häufig gestellten Fragen. Diese Übersicht beansprucht n...\n"
     ]
    }
   ],
   "source": [
    "print(\" Verarbeite die FAQ-PDF-Datei...\")\n",
    "\n",
    "try:\n",
    "    smart_chunks = pdf_processor.process_pdf(\"../data/faq.pdf\")\n",
    "    \n",
    "    print(f\" Erfolgreich in {len(smart_chunks)} intelligente Chunks verarbeitet\")\n",
    "    \n",
    "    if smart_chunks:\n",
    "        print(\"\\n Beispiel-Chunk-Metadaten:\")\n",
    "        sample_metadata = smart_chunks[0].metadata\n",
    "        for key, value in sample_metadata.items():\n",
    "            print(f\"  {key}: {value}\")\n",
    "        \n",
    "        print(f\"\\n Beispiel-Textinhalt (erste 200 Zeichen):\")\n",
    "        print(f\"  {smart_chunks[0].page_content[:200]}...\")\n",
    "\n",
    "except Exception as e:\n",
    "    print(f\" Verarbeitungsfehler: {e}\")"
   ]
  }
 ],
 "metadata": {
  "kernelspec": {
   "display_name": "BundesFAQ-Chatbot (3.10.0)",
   "language": "python",
   "name": "python3"
  },
  "language_info": {
   "codemirror_mode": {
    "name": "ipython",
    "version": 3
   },
   "file_extension": ".py",
   "mimetype": "text/x-python",
   "name": "python",
   "nbconvert_exporter": "python",
   "pygments_lexer": "ipython3",
   "version": "3.10.0"
  }
 },
 "nbformat": 4,
 "nbformat_minor": 5
}
