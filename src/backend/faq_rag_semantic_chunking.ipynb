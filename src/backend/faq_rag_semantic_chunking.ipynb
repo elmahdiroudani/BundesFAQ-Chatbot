{
 "cells": [
  {
   "cell_type": "markdown",
   "id": "2bbc6f53",
   "metadata": {},
   "source": [
    "# BundesFAQ RAG System mit Semantic Chunking\n",
    "\n",
    "Dieses Notebook implementiert ein Retrieval-Augmented Generation System für deutsche FAQ-Daten mit semantischem Chunking und ChromaDB."
   ]
  },
  {
   "cell_type": "markdown",
   "id": "eefec9f6",
   "metadata": {},
   "source": [
    "## Environment Setup\n",
    "\n",
    "Laden der Umgebungsvariablen und Überprüfung der OpenAI API Key Verfügbarkeit."
   ]
  },
  {
   "cell_type": "code",
   "execution_count": 1,
   "id": "885d4338",
   "metadata": {},
   "outputs": [
    {
     "name": "stdout",
     "output_type": "stream",
     "text": [
      "API Key gefunden: True\n"
     ]
    }
   ],
   "source": [
    "import os\n",
    "from dotenv import load_dotenv\n",
    "load_dotenv()\n",
    "print(\"API Key gefunden:\", \"OPENAI_API_KEY\" in os.environ)"
   ]
  },
  {
   "cell_type": "markdown",
   "id": "b8bd767a",
   "metadata": {},
   "source": [
    "## Daten laden\n",
    "\n",
    "FAQ-Textdatei aus dem data Verzeichnis laden und ersten Überblick anzeigen."
   ]
  },
  {
   "cell_type": "code",
   "execution_count": 2,
   "id": "eb9bc54d",
   "metadata": {},
   "outputs": [
    {
     "name": "stdout",
     "output_type": "stream",
     "text": [
      "Datei geladen: 26510 Zeichen\n",
      "Frage: Gibt es einen Rechtsanspruch auf Daten?\n",
      "Antwort: Weder besteht nach § 12a Abs. 1 Satz 2 EGovG ein Rechtsanspruch auf Daten, noch nach § 2a IWG ein Rechtsanspruch auf Informationen. Laut § 1 IFG hat jeder gegenüber Behörden einen Anspruch auf Zugang zu amtlichen Informationen. Im Gegensatz zu § 12a EGovG besteht jedoch ein Antragserfordernis: Bürgerinnen und Bürger müssen eine sogenannte IFG-Anfrage stellen, um ihr rechtliches oder berechtigtes Interesse geltend zu machen.\n",
      "\n",
      "Frage: Kann der\n"
     ]
    }
   ],
   "source": [
    "from pathlib import Path\n",
    "\n",
    "file_path = Path(\"../../data/FAQtxt.txt\")\n",
    "text = file_path.read_text(encoding=\"utf-8\")\n",
    "\n",
    "print(f\"Datei geladen: {len(text)} Zeichen\")\n",
    "print(text[:500])"
   ]
  },
  {
   "cell_type": "markdown",
   "id": "62ce954c",
   "metadata": {},
   "source": [
    "## Semantic Chunking\n",
    "\n",
    "Text in semantische Chunks aufteilen basierend auf \"Frage:\" Pattern. Jeder Chunk wird als Document Objekt gespeichert."
   ]
  },
  {
   "cell_type": "code",
   "execution_count": 3,
   "id": "e6e7cdfd",
   "metadata": {},
   "outputs": [
    {
     "name": "stdout",
     "output_type": "stream",
     "text": [
      "Gefundene Chunks: 42\n",
      "\n",
      "================================================================================\n",
      "\n",
      "CHUNK 1:\n",
      "----------------------------------------\n",
      "Frage: Gibt es einen Rechtsanspruch auf Daten?\n",
      "Antwort: Weder besteht nach § 12a Abs. 1 Satz 2 EGovG ein Rechtsanspruch auf Daten, noch nach § 2a IWG ein Rechtsanspruch auf Informationen. Laut § 1 IFG hat jeder gegenüber Behörden einen Anspruch auf Zugang zu amtlichen Informationen. Im Gegensatz zu § 12a EGovG besteht jedoch ein Antragserfordernis: Bürgerinnen und Bürger müssen eine sogenannte IFG-Anfrage stellen, um ihr rechtliches oder berechtigtes Interesse geltend zu machen.\n",
      "================================================================================\n",
      "\n",
      "CHUNK 2:\n",
      "----------------------------------------\n",
      "Frage: Kann der Zugriff auf Daten eingeschränkt werden?\n",
      "Antwort: Laut § 12a EGovG müssen die zu veröffentlichenden Daten ohne Einschränkung für jede Person zum Datenabruf über öffentlich zugängliche Netze bereitgestellt werden. Zudem muss die Abfrage entgeltfrei und zur uneingeschränkten Weiterverwendung möglich sein. In diesem Sinne ist auch die Lizenz so zu wählen, dass die Daten möglichst uneingeschränkt nutzbar sind.\n",
      "================================================================================\n",
      "\n",
      "CHUNK 3:\n",
      "----------------------------------------\n",
      "Frage: Müssen zu veröffentlichende Daten vorab geprüft werden?\n",
      "Antwort: Die veröffentlichende Behörde stellt nur die Rohdaten bereit. Es besteht keine Pflicht, die Daten vor Bereitstellung auf Richtigkeit, Vollständigkeit, Plausibilität oder in sonstiger Weise zu prüfen. Es liegt jedoch natürlich im Interesse der Behörde, dass Daten plausibel und korrekt sind.\n",
      "================================================================================\n",
      "\n",
      "CHUNK 4:\n",
      "----------------------------------------\n",
      "Frage: Wie wird sichergestellt, dass keine missbräuchliche Nutzung oder Verfälschung der Daten erfolgt? Wie ist die Haftung geregelt?\n",
      "Antwort:\n",
      "(1) Das Gesetz sieht vor, dass die Daten zur uneingeschränkten Weiterverwendung durch jede Person veröffentlicht werden. Die eigentlichen Daten bzw. die Metadaten können vor einem Download nicht manipuliert werden. Somit verbleiben Ihre Daten als Referenz immer erhalten. Eine sachlich falsche oder missbräuchliche Nutzung Ihrer Daten kann durch den Abgleic\n",
      "================================================================================\n"
     ]
    }
   ],
   "source": [
    "import re\n",
    "from langchain.docstore.document import Document\n",
    "\n",
    "faq_blocks = re.split(r\"\\n(?=Frage:)\", text)\n",
    "\n",
    "chunks = []\n",
    "for block in faq_blocks:\n",
    "    block = block.strip()\n",
    "    if block:\n",
    "        chunks.append(Document(page_content=block, metadata={\"source\": \"FAQ\"}))\n",
    "\n",
    "print(f\"Gefundene Chunks: {len(chunks)}\")\n",
    "print(\"\\n\" + \"=\"*80)\n",
    "\n",
    "for i, chunk in enumerate(chunks[:4], 1):\n",
    "    print(f\"\\nCHUNK {i}:\")\n",
    "    print(\"-\" * 40)\n",
    "    print(chunk.page_content[:500]) \n",
    "    print(\"=\"*80)"
   ]
  },
  {
   "cell_type": "markdown",
   "id": "ef6bb1c0",
   "metadata": {},
   "source": [
    "## ChromaDB Vektordatenbank\n",
    "\n",
    "Erstellung der Vektordatenbank mit OpenAI Embeddings für semantische Suche."
   ]
  },
  {
   "cell_type": "code",
   "execution_count": 4,
   "id": "4bb8b4f1",
   "metadata": {},
   "outputs": [
    {
     "name": "stdout",
     "output_type": "stream",
     "text": [
      "Verfügbare Chunks: 42\n",
      "Erstelle Vektordatenbank...\n"
     ]
    },
    {
     "ename": "",
     "evalue": "",
     "output_type": "error",
     "traceback": [
      "\u001b[1;31mThe Kernel crashed while executing code in the current cell or a previous cell. \n",
      "\u001b[1;31mPlease review the code in the cell(s) to identify a possible cause of the failure. \n",
      "\u001b[1;31mClick <a href='https://aka.ms/vscodeJupyterKernelCrash'>here</a> for more info. \n",
      "\u001b[1;31mView Jupyter <a href='command:jupyter.viewOutput'>log</a> for further details."
     ]
    }
   ],
   "source": [
    "from langchain_openai import OpenAIEmbeddings\n",
    "from langchain_community.vectorstores import Chroma\n",
    "\n",
    "persist_directory = \"./chroma_db\"\n",
    "embedding = OpenAIEmbeddings(model=\"text-embedding-3-small\")\n",
    "\n",
    "print(f\"Verfügbare Chunks: {len(chunks)}\")\n",
    "print(f\"Erstelle Vektordatenbank...\")\n",
    "\n",
    "vectorstore = Chroma.from_documents(\n",
    "    documents=chunks,  \n",
    "    embedding=embedding,\n",
    "    collection_name=\"bundesfaq_rag_collection\",\n",
    "    persist_directory=persist_directory,\n",
    ")\n",
    "\n",
    "print(\"Vektordatenbank erfolgreich erstellt!\")\n",
    "print(f\"Anzahl Vektoren: {vectorstore._collection.count()}\")\n",
    "print(f\"Gespeichert in: {persist_directory}\")\n",
    "\n",
    "# Statistik\n",
    "total_chars = sum(len(chunk.page_content) for chunk in chunks)\n",
    "avg_chars = total_chars / len(chunks) if chunks else 0\n",
    "print(f\"Durchschnittliche Chunk-Größe: {avg_chars:.0f} Zeichen\")"
   ]
  },
  {
   "cell_type": "markdown",
   "id": "d10553b3",
   "metadata": {},
   "source": [
    "## Similarity Search Test\n",
    "\n",
    "Einfacher Test der Vektordatenbank mit einer Beispielfrage."
   ]
  },
  {
   "cell_type": "code",
   "execution_count": null,
   "id": "70ada154",
   "metadata": {},
   "outputs": [],
   "source": [
    "query = \"Was ist GovData.de?\"  \n",
    "docs = vectorstore.similarity_search(query, k=2)\n",
    "\n",
    "print(\"Frage:\", query)\n",
    "print(\"\\nTop Ergebnisse:\")\n",
    "\n",
    "for i, doc in enumerate(docs, 1):\n",
    "    print(f\"\\n--- Ergebnis {i} ---\")\n",
    "    print(doc.page_content[:500]) "
   ]
  },
  {
   "cell_type": "markdown",
   "id": "02c6f1a8",
   "metadata": {},
   "source": [
    "## Detaillierte Suchergebnisse\n",
    "\n",
    "Similarity Search mit Scores in tabellarischer Darstellung für bessere Analyse."
   ]
  },
  {
   "cell_type": "code",
   "execution_count": 8,
   "id": "57b97607",
   "metadata": {},
   "outputs": [
    {
     "data": {
      "text/html": [
       "<div>\n",
       "<style scoped>\n",
       "    .dataframe tbody tr th:only-of-type {\n",
       "        vertical-align: middle;\n",
       "    }\n",
       "\n",
       "    .dataframe tbody tr th {\n",
       "        vertical-align: top;\n",
       "    }\n",
       "\n",
       "    .dataframe thead th {\n",
       "        text-align: right;\n",
       "    }\n",
       "</style>\n",
       "<table border=\"1\" class=\"dataframe\">\n",
       "  <thead>\n",
       "    <tr style=\"text-align: right;\">\n",
       "      <th></th>\n",
       "      <th>Rank</th>\n",
       "      <th>Frage</th>\n",
       "      <th>Antwort (gekürzt)</th>\n",
       "      <th>Score</th>\n",
       "      <th>Chunk Länge</th>\n",
       "    </tr>\n",
       "  </thead>\n",
       "  <tbody>\n",
       "    <tr>\n",
       "      <th>0</th>\n",
       "      <td>1</td>\n",
       "      <td>Was ist GovData.de?</td>\n",
       "      <td>GovData.de ist das zentrale Metadatenportal fü...</td>\n",
       "      <td>0.3440</td>\n",
       "      <td>749</td>\n",
       "    </tr>\n",
       "    <tr>\n",
       "      <th>1</th>\n",
       "      <td>2</td>\n",
       "      <td>Wo können die Daten veröffentlicht werden?</td>\n",
       "      <td>Die eigentlichen Daten sind frei zugänglich oh...</td>\n",
       "      <td>0.7074</td>\n",
       "      <td>886</td>\n",
       "    </tr>\n",
       "    <tr>\n",
       "      <th>2</th>\n",
       "      <td>3</td>\n",
       "      <td>Müssen die Daten auf GovData.de regelmäßig gep...</td>\n",
       "      <td>Bestandsdaten sollten regelmäßig von den Open-...</td>\n",
       "      <td>0.7199</td>\n",
       "      <td>331</td>\n",
       "    </tr>\n",
       "    <tr>\n",
       "      <th>3</th>\n",
       "      <td>4</td>\n",
       "      <td>Wo sind Metadaten zu veröffentlichen?</td>\n",
       "      <td>Gemäß § 12a EGovG sind offene Verwaltungsdaten...</td>\n",
       "      <td>0.7650</td>\n",
       "      <td>274</td>\n",
       "    </tr>\n",
       "    <tr>\n",
       "      <th>4</th>\n",
       "      <td>5</td>\n",
       "      <td>Was versteht man unter „Veröffentlichende Stel...</td>\n",
       "      <td>Damit ist die Organisationseinheit gemeint, di...</td>\n",
       "      <td>0.7687</td>\n",
       "      <td>428</td>\n",
       "    </tr>\n",
       "  </tbody>\n",
       "</table>\n",
       "</div>"
      ],
      "text/plain": [
       "   Rank                                              Frage  \\\n",
       "0     1                                Was ist GovData.de?   \n",
       "1     2         Wo können die Daten veröffentlicht werden?   \n",
       "2     3  Müssen die Daten auf GovData.de regelmäßig gep...   \n",
       "3     4              Wo sind Metadaten zu veröffentlichen?   \n",
       "4     5  Was versteht man unter „Veröffentlichende Stel...   \n",
       "\n",
       "                                   Antwort (gekürzt)   Score  Chunk Länge  \n",
       "0  GovData.de ist das zentrale Metadatenportal fü...  0.3440          749  \n",
       "1  Die eigentlichen Daten sind frei zugänglich oh...  0.7074          886  \n",
       "2  Bestandsdaten sollten regelmäßig von den Open-...  0.7199          331  \n",
       "3  Gemäß § 12a EGovG sind offene Verwaltungsdaten...  0.7650          274  \n",
       "4  Damit ist die Organisationseinheit gemeint, di...  0.7687          428  "
      ]
     },
     "execution_count": 8,
     "metadata": {},
     "output_type": "execute_result"
    }
   ],
   "source": [
    "import pandas as pd\n",
    "query = \"Was ist GovData.de?\"\n",
    "results = vectorstore.similarity_search_with_score(query, k=5)\n",
    "\n",
    "rows = []\n",
    "for i, (doc, score) in enumerate(results, 1):\n",
    "    parts = doc.page_content.split(\"Antwort:\", 1)\n",
    "    frage = parts[0].replace(\"Frage:\", \"\").strip()\n",
    "    antwort = parts[1].strip() if len(parts) > 1 else \"\"\n",
    "\n",
    "    rows.append({\n",
    "        \"Rank\": i,\n",
    "        \"Frage\": frage,\n",
    "        \"Antwort (gekürzt)\": antwort[:200] + \"...\" if len(antwort) > 200 else antwort,\n",
    "        \"Score\": f\"{score:.4f}\",\n",
    "        \"Chunk Länge\": len(doc.page_content)\n",
    "    })\n",
    "\n",
    "df = pd.DataFrame(rows)\n",
    "df"
   ]
  },
  {
   "cell_type": "markdown",
   "id": "676f3ead",
   "metadata": {},
   "source": [
    "## RAG Chain Setup\n",
    "\n",
    "Import der erforderlichen LangChain Komponenten für Retrieval-Augmented Generation."
   ]
  },
  {
   "cell_type": "code",
   "execution_count": 9,
   "id": "76a13804",
   "metadata": {},
   "outputs": [],
   "source": [
    "from langchain_openai import ChatOpenAI\n",
    "from langchain.chains import create_retrieval_chain\n",
    "from langchain.chains.combine_documents import create_stuff_documents_chain\n",
    "from langchain_core.prompts import ChatPromptTemplate"
   ]
  },
  {
   "cell_type": "markdown",
   "id": "3d29317e",
   "metadata": {},
   "source": [
    "## LLM Initialisierung\n",
    "\n",
    "ChatOpenAI Modell für die Antwortgenerierung konfigurieren."
   ]
  },
  {
   "cell_type": "code",
   "execution_count": 10,
   "id": "de0d606a",
   "metadata": {},
   "outputs": [
    {
     "name": "stdout",
     "output_type": "stream",
     "text": [
      "LLM initialisiert\n"
     ]
    }
   ],
   "source": [
    "llm = ChatOpenAI(model=\"gpt-3.5-turbo\")  \n",
    "print(\"LLM initialisiert\")"
   ]
  },
  {
   "cell_type": "markdown",
   "id": "955c3168",
   "metadata": {},
   "source": [
    "## Prompt Template\n",
    "\n",
    "System Prompt für kontextbasierte Antwortgenerierung definieren."
   ]
  },
  {
   "cell_type": "code",
   "execution_count": null,
   "id": "387062bc",
   "metadata": {},
   "outputs": [],
   "source": [
    "system_prompt = \"\"\"You are a helpful assistant for question-answering tasks.  \n",
    "Use the retrieved context below to answer the user's question.  \n",
    "\n",
    "- If the answer is not in the context, say: \"I don't know based on the provided documents.\"  \n",
    "- Be concise (max. 3 sentences).  \n",
    "- Ground your answer in the context, don't invent facts.  \n",
    "\n",
    "Context:\n",
    "{context}\"\"\"\n",
    "\n",
    "prompt = ChatPromptTemplate.from_messages([\n",
    "    (\"system\", system_prompt),\n",
    "    (\"human\", \"{input}\")\n",
    "])"
   ]
  },
  {
   "cell_type": "markdown",
   "id": "0be89fd4",
   "metadata": {},
   "source": [
    "## Document Chain\n",
    "\n",
    "Verbindung zwischen LLM und Prompt Template erstellen."
   ]
  },
  {
   "cell_type": "code",
   "execution_count": 12,
   "id": "31f3fa8b",
   "metadata": {},
   "outputs": [],
   "source": [
    "document_chain = create_stuff_documents_chain(llm, prompt)"
   ]
  },
  {
   "cell_type": "markdown",
   "id": "1a7bd339",
   "metadata": {},
   "source": [
    "## Retriever Setup\n",
    "\n",
    "Retriever aus der Vektordatenbank für relevante Dokumente konfigurieren."
   ]
  },
  {
   "cell_type": "code",
   "execution_count": 13,
   "id": "150c8e5e",
   "metadata": {},
   "outputs": [],
   "source": [
    "retriever = vectorstore.as_retriever(search_kwargs={\"k\": 3})\n"
   ]
  },
  {
   "cell_type": "markdown",
   "id": "93461cb1",
   "metadata": {},
   "source": [
    "## RAG Chain\n",
    "\n",
    "Vollständige RAG Kette aus Retriever und Document Chain zusammenfügen."
   ]
  },
  {
   "cell_type": "code",
   "execution_count": 14,
   "id": "d687b44c",
   "metadata": {},
   "outputs": [],
   "source": [
    "rag_chain = create_retrieval_chain(retriever, document_chain)\n"
   ]
  },
  {
   "cell_type": "markdown",
   "id": "bf5840c7",
   "metadata": {},
   "source": [
    "## RAG System Test\n",
    "\n",
    "Test des vollständigen RAG Systems mit einer Beispielfrage."
   ]
  },
  {
   "cell_type": "code",
   "execution_count": 15,
   "id": "0b06a770",
   "metadata": {},
   "outputs": [
    {
     "name": "stdout",
     "output_type": "stream",
     "text": [
      "Antwort: Die eigentlichen Daten können mit Metadaten verknüpft werden, indem beschreibende Informationen wie Autor, Erscheinungsdatum, Stichwörter und Kontaktdaten im Metadatensatz gesammelt und mit den entsprechenden Daten verknüpft werden. Dadurch lassen sich die Daten bestimmten Typs oder Inhalts zielsicher und schnell finden.\n"
     ]
    }
   ],
   "source": [
    "response = rag_chain.invoke({\"input\": \"Wie können die eigentlichen Daten mit Metadaten verknüpft werden?\"})\n",
    "print(\"Antwort:\", response[\"answer\"])"
   ]
  }
 ],
 "metadata": {
  "kernelspec": {
   "display_name": "BundesFAQ-Chatbot (3.10.18)",
   "language": "python",
   "name": "python3"
  },
  "language_info": {
   "codemirror_mode": {
    "name": "ipython",
    "version": 3
   },
   "file_extension": ".py",
   "mimetype": "text/x-python",
   "name": "python",
   "nbconvert_exporter": "python",
   "pygments_lexer": "ipython3",
   "version": "3.13.7"
  }
 },
 "nbformat": 4,
 "nbformat_minor": 5
}
